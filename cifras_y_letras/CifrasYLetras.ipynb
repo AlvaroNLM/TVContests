{
 "cells": [
  {
   "cell_type": "markdown",
   "metadata": {
    "id": "gzYxhHqBlqky"
   },
   "source": [
    "# Word Analysis\n",
    "\n",
    "My first idea was to scrappe the rae web, where all words are indexed. The plan was to generate random words (from letters=list(map(chr, range(ord('a'), ord('z')+1)))) with a max of 23 letters (included) since this is the max in Spanish (without taking into consideration the \"-\"). However, to get each iteration from \"https://dle.rae.es/{word}\" would have been a problem.\n",
    "\n",
    "Then, I get the spanish words from an existing repository for the user @JorgeDuenasLerin at Github. Specifically, \"https://github.com/JorgeDuenasLerin/diccionario-espanol-txt\"."
   ]
  },
  {
   "cell_type": "code",
   "execution_count": 61,
   "metadata": {
    "executionInfo": {
     "elapsed": 2075,
     "status": "ok",
     "timestamp": 1733225293136,
     "user": {
      "displayName": "Code Kage",
      "userId": "07074025957687558676"
     },
     "user_tz": -60
    },
    "id": "hCVnynormZo1"
   },
   "outputs": [],
   "source": [
    "import pandas as pd\n",
    "import requests\n",
    "import os\n",
    "import matplotlib.pyplot as plt\n",
    "from collections import Counter"
   ]
  },
  {
   "cell_type": "code",
   "execution_count": 62,
   "metadata": {
    "executionInfo": {
     "elapsed": 3,
     "status": "ok",
     "timestamp": 1733225293137,
     "user": {
      "displayName": "Code Kage",
      "userId": "07074025957687558676"
     },
     "user_tz": -60
    },
    "id": "OnL7jOihplgN"
   },
   "outputs": [],
   "source": [
    "# words\n",
    "url = \"https://raw.githubusercontent.com/JorgeDuenasLerin/diccionario-espanol-txt/master/0_palabras_todas.txt\"\n",
    "# prefixes\n",
    "url_prefijos = \"https://raw.githubusercontent.com/JorgeDuenasLerin/diccionario-espanol-txt/master/0_prefijos.txt\"\n",
    "# sufixes\n",
    "url_sufijos = \"https://raw.githubusercontent.com/JorgeDuenasLerin/diccionario-espanol-txt/master/0_subfijos.txt\""
   ]
  },
  {
   "cell_type": "code",
   "execution_count": 63,
   "metadata": {
    "colab": {
     "base_uri": "https://localhost:8080/"
    },
    "executionInfo": {
     "elapsed": 1385,
     "status": "ok",
     "timestamp": 1733225294520,
     "user": {
      "displayName": "Code Kage",
      "userId": "07074025957687558676"
     },
     "user_tz": -60
    },
    "id": "5jFhSai0lqZg",
    "outputId": "ef211bf6-e853-4094-feff-428dfce6c86f"
   },
   "outputs": [
    {
     "data": {
      "text/html": [
       "<div>\n",
       "<style scoped>\n",
       "    .dataframe tbody tr th:only-of-type {\n",
       "        vertical-align: middle;\n",
       "    }\n",
       "\n",
       "    .dataframe tbody tr th {\n",
       "        vertical-align: top;\n",
       "    }\n",
       "\n",
       "    .dataframe thead th {\n",
       "        text-align: right;\n",
       "    }\n",
       "</style>\n",
       "<table border=\"1\" class=\"dataframe\">\n",
       "  <thead>\n",
       "    <tr style=\"text-align: right;\">\n",
       "      <th></th>\n",
       "      <th>palabra</th>\n",
       "    </tr>\n",
       "  </thead>\n",
       "  <tbody>\n",
       "    <tr>\n",
       "      <th>0</th>\n",
       "      <td>)</td>\n",
       "    </tr>\n",
       "    <tr>\n",
       "      <th>1</th>\n",
       "      <td>a</td>\n",
       "    </tr>\n",
       "    <tr>\n",
       "      <th>2</th>\n",
       "      <td>aba</td>\n",
       "    </tr>\n",
       "    <tr>\n",
       "      <th>3</th>\n",
       "      <td>ába</td>\n",
       "    </tr>\n",
       "    <tr>\n",
       "      <th>4</th>\n",
       "      <td>abaá</td>\n",
       "    </tr>\n",
       "  </tbody>\n",
       "</table>\n",
       "</div>"
      ],
      "text/plain": [
       "  palabra\n",
       "0       )\n",
       "1       a\n",
       "2     aba\n",
       "3     ába\n",
       "4    abaá"
      ]
     },
     "execution_count": 63,
     "metadata": {},
     "output_type": "execute_result"
    }
   ],
   "source": [
    "# content from file\n",
    "response = requests.get(url)\n",
    "palabras = response.text.splitlines()\n",
    "# create df\n",
    "df = pd.DataFrame(palabras, columns=['palabra'])\n",
    "# show df\n",
    "df.head()"
   ]
  },
  {
   "cell_type": "code",
   "execution_count": 64,
   "metadata": {
    "colab": {
     "base_uri": "https://localhost:8080/"
    },
    "executionInfo": {
     "elapsed": 2,
     "status": "ok",
     "timestamp": 1733225294520,
     "user": {
      "displayName": "Code Kage",
      "userId": "07074025957687558676"
     },
     "user_tz": -60
    },
    "id": "I-hA3Fm0mmky",
    "outputId": "4e463dc3-3267-4d5f-da41-75c9193adaf1"
   },
   "outputs": [
    {
     "data": {
      "text/html": [
       "<div>\n",
       "<style scoped>\n",
       "    .dataframe tbody tr th:only-of-type {\n",
       "        vertical-align: middle;\n",
       "    }\n",
       "\n",
       "    .dataframe tbody tr th {\n",
       "        vertical-align: top;\n",
       "    }\n",
       "\n",
       "    .dataframe thead th {\n",
       "        text-align: right;\n",
       "    }\n",
       "</style>\n",
       "<table border=\"1\" class=\"dataframe\">\n",
       "  <thead>\n",
       "    <tr style=\"text-align: right;\">\n",
       "      <th></th>\n",
       "      <th>palabra</th>\n",
       "      <th>longitud_palabra</th>\n",
       "    </tr>\n",
       "  </thead>\n",
       "  <tbody>\n",
       "    <tr>\n",
       "      <th>0</th>\n",
       "      <td>a</td>\n",
       "      <td>1</td>\n",
       "    </tr>\n",
       "    <tr>\n",
       "      <th>1</th>\n",
       "      <td>aba</td>\n",
       "      <td>3</td>\n",
       "    </tr>\n",
       "    <tr>\n",
       "      <th>2</th>\n",
       "      <td>ába</td>\n",
       "      <td>3</td>\n",
       "    </tr>\n",
       "    <tr>\n",
       "      <th>3</th>\n",
       "      <td>abaá</td>\n",
       "      <td>4</td>\n",
       "    </tr>\n",
       "    <tr>\n",
       "      <th>4</th>\n",
       "      <td>ababilla</td>\n",
       "      <td>8</td>\n",
       "    </tr>\n",
       "  </tbody>\n",
       "</table>\n",
       "</div>"
      ],
      "text/plain": [
       "    palabra  longitud_palabra\n",
       "0         a                 1\n",
       "1       aba                 3\n",
       "2       ába                 3\n",
       "3      abaá                 4\n",
       "4  ababilla                 8"
      ]
     },
     "execution_count": 64,
     "metadata": {},
     "output_type": "execute_result"
    }
   ],
   "source": [
    "# bdrop first line\n",
    "df = df.iloc[1:]\n",
    "# reset index\n",
    "df = df.reset_index(drop=True)\n",
    "# add word length\n",
    "df[\"longitud_palabra\"] = df[\"palabra\"].str.len()\n",
    "# mostrar el dataframe\n",
    "df.head()"
   ]
  },
  {
   "cell_type": "code",
   "execution_count": 65,
   "metadata": {
    "executionInfo": {
     "elapsed": 4,
     "status": "ok",
     "timestamp": 1733225295656,
     "user": {
      "displayName": "Code Kage",
      "userId": "07074025957687558676"
     },
     "user_tz": -60
    },
    "id": "PIl2FYg3lqPk"
   },
   "outputs": [],
   "source": [
    "# Backup\n",
    "df_backup = df.copy()"
   ]
  },
  {
   "cell_type": "markdown",
   "metadata": {},
   "source": [
    "In the following, I focus the code on the specific test/game of, given 10 random letters, to order them and write the larges word (subject to (i) a number of words >=5 [and <=10 for obvious reasons>] and (ii) a number of vowels <=6 and >=3)."
   ]
  },
  {
   "cell_type": "code",
   "execution_count": 66,
   "metadata": {
    "colab": {
     "base_uri": "https://localhost:8080/",
     "height": 449
    },
    "executionInfo": {
     "elapsed": 282,
     "status": "ok",
     "timestamp": 1733225295935,
     "user": {
      "displayName": "Code Kage",
      "userId": "07074025957687558676"
     },
     "user_tz": -60
    },
    "id": "Fh4OIPYUlqND",
    "outputId": "680a6d8f-45e4-4a11-b61f-91373cad1fe7"
   },
   "outputs": [
    {
     "data": {
      "text/html": [
       "<div>\n",
       "<style scoped>\n",
       "    .dataframe tbody tr th:only-of-type {\n",
       "        vertical-align: middle;\n",
       "    }\n",
       "\n",
       "    .dataframe tbody tr th {\n",
       "        vertical-align: top;\n",
       "    }\n",
       "\n",
       "    .dataframe thead th {\n",
       "        text-align: right;\n",
       "    }\n",
       "</style>\n",
       "<table border=\"1\" class=\"dataframe\">\n",
       "  <thead>\n",
       "    <tr style=\"text-align: right;\">\n",
       "      <th></th>\n",
       "      <th>palabra</th>\n",
       "      <th>longitud_palabra</th>\n",
       "    </tr>\n",
       "  </thead>\n",
       "  <tbody>\n",
       "    <tr>\n",
       "      <th>0</th>\n",
       "      <td>ababilla</td>\n",
       "      <td>8</td>\n",
       "    </tr>\n",
       "    <tr>\n",
       "      <th>1</th>\n",
       "      <td>ababílla</td>\n",
       "      <td>8</td>\n",
       "    </tr>\n",
       "    <tr>\n",
       "      <th>2</th>\n",
       "      <td>ababillaba</td>\n",
       "      <td>10</td>\n",
       "    </tr>\n",
       "    <tr>\n",
       "      <th>3</th>\n",
       "      <td>ababillado</td>\n",
       "      <td>10</td>\n",
       "    </tr>\n",
       "    <tr>\n",
       "      <th>4</th>\n",
       "      <td>ababilláis</td>\n",
       "      <td>10</td>\n",
       "    </tr>\n",
       "  </tbody>\n",
       "</table>\n",
       "</div>"
      ],
      "text/plain": [
       "      palabra  longitud_palabra\n",
       "0    ababilla                 8\n",
       "1    ababílla                 8\n",
       "2  ababillaba                10\n",
       "3  ababillado                10\n",
       "4  ababilláis                10"
      ]
     },
     "execution_count": 66,
     "metadata": {},
     "output_type": "execute_result"
    }
   ],
   "source": [
    "# filter word lenght\n",
    "df = df[(df['longitud_palabra'] >= 5) & (df['longitud_palabra'] <= 10)]\n",
    "# reset index\n",
    "df = df.reset_index(drop=True)\n",
    "# show df\n",
    "df.head()\n"
   ]
  },
  {
   "cell_type": "code",
   "execution_count": 67,
   "metadata": {
    "colab": {
     "base_uri": "https://localhost:8080/"
    },
    "executionInfo": {
     "elapsed": 9401,
     "status": "ok",
     "timestamp": 1733225305334,
     "user": {
      "displayName": "Code Kage",
      "userId": "07074025957687558676"
     },
     "user_tz": -60
    },
    "id": "UVQ5wX3TlqKz",
    "outputId": "47abfa62-c602-4477-d375-d2eb98bc1dce"
   },
   "outputs": [
    {
     "name": "stdout",
     "output_type": "stream",
     "text": [
      "Palabras con 3 vocales:\n",
      " 116840\n",
      "\n",
      "Palabras con 4 vocales:\n",
      " 150864\n",
      "\n",
      "Palabras con 5 vocales:\n",
      " 51468\n",
      "\n",
      "Palabras con 6 vocales:\n",
      " 2253\n"
     ]
    }
   ],
   "source": [
    "# four df based on th main df for each vowel number case\n",
    "df_3 = df[df['palabra'].str.lower().str.count('[aeiou]') == 3]\n",
    "df_4 = df[df['palabra'].str.lower().str.count('[aeiou]') == 4]\n",
    "df_5 = df[df['palabra'].str.lower().str.count('[aeiou]') == 5]\n",
    "df_6 = df[df['palabra'].str.lower().str.count('[aeiou]') == 6]\n",
    "\n",
    "print(\"Palabras con 3 vocales:\\n\"  , len(df_3))\n",
    "print(\"\\nPalabras con 4 vocales:\\n\", len(df_4))\n",
    "print(\"\\nPalabras con 5 vocales:\\n\", len(df_5))\n",
    "print(\"\\nPalabras con 6 vocales:\\n\", len(df_6))\n"
   ]
  },
  {
   "cell_type": "markdown",
   "metadata": {
    "id": "eCXu4yerpRwW"
   },
   "source": [
    "Now I focus on the 6 vowels number because is the shortest, which is an advantage to study the words to face the challenge at \"Cifras y Letras\" TV contest"
   ]
  },
  {
   "cell_type": "markdown",
   "metadata": {},
   "source": [
    "# HERE"
   ]
  },
  {
   "cell_type": "code",
   "execution_count": 68,
   "metadata": {},
   "outputs": [
    {
     "data": {
      "text/html": [
       "<div>\n",
       "<style scoped>\n",
       "    .dataframe tbody tr th:only-of-type {\n",
       "        vertical-align: middle;\n",
       "    }\n",
       "\n",
       "    .dataframe tbody tr th {\n",
       "        vertical-align: top;\n",
       "    }\n",
       "\n",
       "    .dataframe thead th {\n",
       "        text-align: right;\n",
       "    }\n",
       "</style>\n",
       "<table border=\"1\" class=\"dataframe\">\n",
       "  <thead>\n",
       "    <tr style=\"text-align: right;\">\n",
       "      <th></th>\n",
       "      <th>palabra</th>\n",
       "      <th>longitud_palabra</th>\n",
       "    </tr>\n",
       "  </thead>\n",
       "  <tbody>\n",
       "    <tr>\n",
       "      <th>188</th>\n",
       "      <td>abaleabais</td>\n",
       "      <td>10</td>\n",
       "    </tr>\n",
       "    <tr>\n",
       "      <th>200</th>\n",
       "      <td>abalearais</td>\n",
       "      <td>10</td>\n",
       "    </tr>\n",
       "    <tr>\n",
       "      <th>207</th>\n",
       "      <td>abaleareis</td>\n",
       "      <td>10</td>\n",
       "    </tr>\n",
       "    <tr>\n",
       "      <th>218</th>\n",
       "      <td>abaleaseis</td>\n",
       "      <td>10</td>\n",
       "    </tr>\n",
       "    <tr>\n",
       "      <th>456</th>\n",
       "      <td>abaniqueo</td>\n",
       "      <td>9</td>\n",
       "    </tr>\n",
       "  </tbody>\n",
       "</table>\n",
       "</div>"
      ],
      "text/plain": [
       "        palabra  longitud_palabra\n",
       "188  abaleabais                10\n",
       "200  abalearais                10\n",
       "207  abaleareis                10\n",
       "218  abaleaseis                10\n",
       "456   abaniqueo                 9"
      ]
     },
     "execution_count": 68,
     "metadata": {},
     "output_type": "execute_result"
    }
   ],
   "source": [
    "#show the df\n",
    "df_6.head()"
   ]
  },
  {
   "cell_type": "code",
   "execution_count": 69,
   "metadata": {
    "executionInfo": {
     "elapsed": 752,
     "status": "ok",
     "timestamp": 1733225306082,
     "user": {
      "displayName": "Code Kage",
      "userId": "07074025957687558676"
     },
     "user_tz": -60
    },
    "id": "VDXRubdvoGfF"
   },
   "outputs": [
    {
     "name": "stderr",
     "output_type": "stream",
     "text": [
      "C:\\Users\\alvar\\AppData\\Local\\Temp\\ipykernel_20792\\3093132470.py:13: SettingWithCopyWarning: \n",
      "A value is trying to be set on a copy of a slice from a DataFrame.\n",
      "Try using .loc[row_indexer,col_indexer] = value instead\n",
      "\n",
      "See the caveats in the documentation: https://pandas.pydata.org/pandas-docs/stable/user_guide/indexing.html#returning-a-view-versus-a-copy\n",
      "  df_6[\"prefijo\"] = df_6[\"palabra\"].apply(lambda x: empieza_por_prefijo(x, prefijos))\n",
      "C:\\Users\\alvar\\AppData\\Local\\Temp\\ipykernel_20792\\3093132470.py:27: SettingWithCopyWarning: \n",
      "A value is trying to be set on a copy of a slice from a DataFrame.\n",
      "Try using .loc[row_indexer,col_indexer] = value instead\n",
      "\n",
      "See the caveats in the documentation: https://pandas.pydata.org/pandas-docs/stable/user_guide/indexing.html#returning-a-view-versus-a-copy\n",
      "  df_6[\"sufijo\"] = df_6[\"palabra\"].apply(lambda x: termina_por_sufijo(x, sufijos))\n"
     ]
    },
    {
     "data": {
      "text/html": [
       "<div>\n",
       "<style scoped>\n",
       "    .dataframe tbody tr th:only-of-type {\n",
       "        vertical-align: middle;\n",
       "    }\n",
       "\n",
       "    .dataframe tbody tr th {\n",
       "        vertical-align: top;\n",
       "    }\n",
       "\n",
       "    .dataframe thead th {\n",
       "        text-align: right;\n",
       "    }\n",
       "</style>\n",
       "<table border=\"1\" class=\"dataframe\">\n",
       "  <thead>\n",
       "    <tr style=\"text-align: right;\">\n",
       "      <th></th>\n",
       "      <th>palabra</th>\n",
       "      <th>longitud_palabra</th>\n",
       "      <th>prefijo</th>\n",
       "      <th>sufijo</th>\n",
       "    </tr>\n",
       "  </thead>\n",
       "  <tbody>\n",
       "    <tr>\n",
       "      <th>188</th>\n",
       "      <td>abaleabais</td>\n",
       "      <td>10</td>\n",
       "      <td>a</td>\n",
       "      <td></td>\n",
       "    </tr>\n",
       "    <tr>\n",
       "      <th>200</th>\n",
       "      <td>abalearais</td>\n",
       "      <td>10</td>\n",
       "      <td>a</td>\n",
       "      <td></td>\n",
       "    </tr>\n",
       "    <tr>\n",
       "      <th>207</th>\n",
       "      <td>abaleareis</td>\n",
       "      <td>10</td>\n",
       "      <td>a</td>\n",
       "      <td></td>\n",
       "    </tr>\n",
       "    <tr>\n",
       "      <th>218</th>\n",
       "      <td>abaleaseis</td>\n",
       "      <td>10</td>\n",
       "      <td>a</td>\n",
       "      <td></td>\n",
       "    </tr>\n",
       "    <tr>\n",
       "      <th>456</th>\n",
       "      <td>abaniqueo</td>\n",
       "      <td>9</td>\n",
       "      <td>a</td>\n",
       "      <td></td>\n",
       "    </tr>\n",
       "  </tbody>\n",
       "</table>\n",
       "</div>"
      ],
      "text/plain": [
       "        palabra  longitud_palabra prefijo sufijo\n",
       "188  abaleabais                10       a       \n",
       "200  abalearais                10       a       \n",
       "207  abaleareis                10       a       \n",
       "218  abaleaseis                10       a       \n",
       "456   abaniqueo                 9       a       "
      ]
     },
     "execution_count": 69,
     "metadata": {},
     "output_type": "execute_result"
    }
   ],
   "source": [
    "# I add prefixes and suffixes in the dataframe\n",
    "## prefixes\n",
    "response_prefijos = requests.get(url_prefijos)\n",
    "prefijos = response_prefijos.text.splitlines()\n",
    "prefijos = [prefijo.replace('-', '') for prefijo in prefijos]\n",
    "\n",
    "def empieza_por_prefijo(palabra, prefijos):\n",
    "  for prefijo in prefijos:\n",
    "    if palabra.startswith(prefijo):\n",
    "      return prefijo\n",
    "  return \"\"\n",
    "\n",
    "df_6[\"prefijo\"] = df_6[\"palabra\"].apply(lambda x: empieza_por_prefijo(x, prefijos))\n",
    "\n",
    "\n",
    "## sufixes\n",
    "response_sufijos = requests.get(url_sufijos)\n",
    "sufijos = response_sufijos.text.splitlines()\n",
    "sufijos = [sufijo.replace('-', '') for sufijo in sufijos]\n",
    "\n",
    "def termina_por_sufijo(palabra, sufijos):\n",
    "  for sufijo in sufijos:\n",
    "    if palabra.endswith(sufijo):\n",
    "      return sufijo\n",
    "  return \"\"\n",
    "\n",
    "df_6[\"sufijo\"] = df_6[\"palabra\"].apply(lambda x: termina_por_sufijo(x, sufijos))\n",
    "\n",
    "# Show the df after the changes\n",
    "df_6.head()"
   ]
  },
  {
   "cell_type": "code",
   "execution_count": 70,
   "metadata": {
    "colab": {
     "base_uri": "https://localhost:8080/"
    },
    "executionInfo": {
     "elapsed": 10,
     "status": "ok",
     "timestamp": 1733225306441,
     "user": {
      "displayName": "Code Kage",
      "userId": "07074025957687558676"
     },
     "user_tz": -60
    },
    "id": "mQfw35ptoGcd",
    "outputId": "8811cc5f-b2b1-4778-959d-b6335a7e3947"
   },
   "outputs": [
    {
     "name": "stdout",
     "output_type": "stream",
     "text": [
      "Número de filas con sufijos de al menos 3 letras: 6\n",
      "Número de filas con prefijos de al menos 3 letras: 26\n"
     ]
    },
    {
     "name": "stderr",
     "output_type": "stream",
     "text": [
      "C:\\Users\\alvar\\AppData\\Local\\Temp\\ipykernel_20792\\417635450.py:1: SettingWithCopyWarning: \n",
      "A value is trying to be set on a copy of a slice from a DataFrame.\n",
      "Try using .loc[row_indexer,col_indexer] = value instead\n",
      "\n",
      "See the caveats in the documentation: https://pandas.pydata.org/pandas-docs/stable/user_guide/indexing.html#returning-a-view-versus-a-copy\n",
      "  df_6['sufijo_len'] = df_6['sufijo'].str.len()\n",
      "C:\\Users\\alvar\\AppData\\Local\\Temp\\ipykernel_20792\\417635450.py:2: SettingWithCopyWarning: \n",
      "A value is trying to be set on a copy of a slice from a DataFrame.\n",
      "Try using .loc[row_indexer,col_indexer] = value instead\n",
      "\n",
      "See the caveats in the documentation: https://pandas.pydata.org/pandas-docs/stable/user_guide/indexing.html#returning-a-view-versus-a-copy\n",
      "  df_6['prefijo_len'] = df_6['prefijo'].str.len()\n"
     ]
    }
   ],
   "source": [
    "df_6['sufijo_len'] = df_6['sufijo'].str.len()\n",
    "df_6['prefijo_len'] = df_6['prefijo'].str.len()\n",
    "\n",
    "print(\"Número de filas con sufijos de al menos 3 letras:\", len(df_6[df_6['sufijo_len'] >= 3]))\n",
    "print(\"Número de filas con prefijos de al menos 3 letras:\", len(df_6[df_6['prefijo_len'] >= 3]))\n"
   ]
  },
  {
   "cell_type": "code",
   "execution_count": 71,
   "metadata": {
    "colab": {
     "base_uri": "https://localhost:8080/"
    },
    "executionInfo": {
     "elapsed": 8,
     "status": "ok",
     "timestamp": 1733225306441,
     "user": {
      "displayName": "Code Kage",
      "userId": "07074025957687558676"
     },
     "user_tz": -60
    },
    "id": "xmBMN6trhPmJ",
    "outputId": "3bdb3c2a-7f24-4fbf-b8c3-bf9de13a970d"
   },
   "outputs": [
    {
     "data": {
      "text/html": [
       "<div>\n",
       "<style scoped>\n",
       "    .dataframe tbody tr th:only-of-type {\n",
       "        vertical-align: middle;\n",
       "    }\n",
       "\n",
       "    .dataframe tbody tr th {\n",
       "        vertical-align: top;\n",
       "    }\n",
       "\n",
       "    .dataframe thead th {\n",
       "        text-align: right;\n",
       "    }\n",
       "</style>\n",
       "<table border=\"1\" class=\"dataframe\">\n",
       "  <thead>\n",
       "    <tr style=\"text-align: right;\">\n",
       "      <th></th>\n",
       "      <th>palabra</th>\n",
       "      <th>longitud_palabra</th>\n",
       "      <th>prefijo</th>\n",
       "      <th>sufijo</th>\n",
       "      <th>sufijo_len</th>\n",
       "      <th>prefijo_len</th>\n",
       "    </tr>\n",
       "  </thead>\n",
       "  <tbody>\n",
       "    <tr>\n",
       "      <th>1</th>\n",
       "      <td>zulaquease</td>\n",
       "      <td>10</td>\n",
       "      <td></td>\n",
       "      <td></td>\n",
       "      <td>0</td>\n",
       "      <td>0</td>\n",
       "    </tr>\n",
       "    <tr>\n",
       "      <th>2</th>\n",
       "      <td>abaleabais</td>\n",
       "      <td>10</td>\n",
       "      <td>a</td>\n",
       "      <td></td>\n",
       "      <td>0</td>\n",
       "      <td>1</td>\n",
       "    </tr>\n",
       "    <tr>\n",
       "      <th>3</th>\n",
       "      <td>abalearais</td>\n",
       "      <td>10</td>\n",
       "      <td>a</td>\n",
       "      <td></td>\n",
       "      <td>0</td>\n",
       "      <td>1</td>\n",
       "    </tr>\n",
       "    <tr>\n",
       "      <th>4</th>\n",
       "      <td>abaleareis</td>\n",
       "      <td>10</td>\n",
       "      <td>a</td>\n",
       "      <td></td>\n",
       "      <td>0</td>\n",
       "      <td>1</td>\n",
       "    </tr>\n",
       "    <tr>\n",
       "      <th>5</th>\n",
       "      <td>abaleaseis</td>\n",
       "      <td>10</td>\n",
       "      <td>a</td>\n",
       "      <td></td>\n",
       "      <td>0</td>\n",
       "      <td>1</td>\n",
       "    </tr>\n",
       "  </tbody>\n",
       "</table>\n",
       "</div>"
      ],
      "text/plain": [
       "      palabra  longitud_palabra prefijo sufijo  sufijo_len  prefijo_len\n",
       "1  zulaquease                10                          0            0\n",
       "2  abaleabais                10       a                  0            1\n",
       "3  abalearais                10       a                  0            1\n",
       "4  abaleareis                10       a                  0            1\n",
       "5  abaleaseis                10       a                  0            1"
      ]
     },
     "execution_count": 71,
     "metadata": {},
     "output_type": "execute_result"
    }
   ],
   "source": [
    "df_6_sorted = df_6.sort_values('longitud_palabra', ascending=False).reset_index(drop=True)\n",
    "df_6_sorted.index = df_6_sorted.index + 1\n",
    "df_6_sorted.head()\n"
   ]
  },
  {
   "cell_type": "code",
   "execution_count": 72,
   "metadata": {
    "executionInfo": {
     "elapsed": 7,
     "status": "ok",
     "timestamp": 1733225306441,
     "user": {
      "displayName": "Code Kage",
      "userId": "07074025957687558676"
     },
     "user_tz": -60
    },
    "id": "aRNArra8hfW5"
   },
   "outputs": [
    {
     "name": "stdout",
     "output_type": "stream",
     "text": [
      "La media de letras de las palabras en df_6 es: 9.940079893475366\n",
      "Número de palabras con 10 letras: 2118\n",
      "Número de palabras que no tienen 10 letras: 135\n"
     ]
    }
   ],
   "source": [
    "# Useful info to study\n",
    "media_letras = df_6['longitud_palabra'].mean()\n",
    "print(\"La media de letras de las palabras en df_6 es:\", media_letras)\n",
    "\n",
    "palabras_10_letras = df_6[df_6['longitud_palabra'] == 10]\n",
    "num_palabras_10_letras = len(palabras_10_letras)\n",
    "print(\"Número de palabras con 10 letras:\", num_palabras_10_letras)\n",
    "\n",
    "palabras_no_10_letras = df_6[df_6['longitud_palabra'] != 10]\n",
    "num_palabras_no_10_letras = len(palabras_no_10_letras)\n",
    "print(\"Número de palabras que no tienen 10 letras:\", num_palabras_no_10_letras)\n"
   ]
  },
  {
   "cell_type": "code",
   "execution_count": 73,
   "metadata": {
    "colab": {
     "base_uri": "https://localhost:8080/",
     "height": 17
    },
    "executionInfo": {
     "elapsed": 4,
     "status": "ok",
     "timestamp": 1733225306441,
     "user": {
      "displayName": "Code Kage",
      "userId": "07074025957687558676"
     },
     "user_tz": -60
    },
    "id": "ixYg3ojmdZQQ",
    "outputId": "20bbf26e-9268-4878-e3d5-10cfd8899b4c"
   },
   "outputs": [],
   "source": [
    "df_6_sorted.to_csv(os.path.join(\"data\", \"df_6.csv\"), index=False)\n"
   ]
  },
  {
   "cell_type": "code",
   "execution_count": 74,
   "metadata": {
    "colab": {
     "base_uri": "https://localhost:8080/",
     "height": 486
    },
    "executionInfo": {
     "elapsed": 475,
     "status": "ok",
     "timestamp": 1733225387379,
     "user": {
      "displayName": "Code Kage",
      "userId": "07074025957687558676"
     },
     "user_tz": -60
    },
    "id": "VQg6h79SeDL8",
    "outputId": "352faae3-753f-43ce-9a3e-14a8f41bbfef"
   },
   "outputs": [
    {
     "data": {
      "image/png": "[encoded data removed]",
      "text/plain": [
       "<Figure size 640x480 with 1 Axes>"
      ]
     },
     "metadata": {},
     "output_type": "display_data"
    }
   ],
   "source": [
    "# Show the more common combs\n",
    "estructuras = []\n",
    "for palabra in df_6_sorted['palabra']:\n",
    "  for i in range(len(palabra) - 2):\n",
    "    estructuras.append(palabra[i:i+3])\n",
    "\n",
    "conteo_estructuras = Counter(estructuras)\n",
    "\n",
    "estructuras_comunes = conteo_estructuras.most_common(20)\n",
    "\n",
    "estructuras, frecuencias = zip(*estructuras_comunes)\n",
    "plt.bar(estructuras, frecuencias)\n",
    "plt.xlabel('Estructuras de 3 letras')\n",
    "plt.ylabel('Frecuencia')\n",
    "plt.title('Estructuras de 3 letras más comunes')\n",
    "plt.xticks(rotation=45)\n",
    "plt.show()\n"
   ]
  }
 ],
 "metadata": {
  "colab": {
   "authorship_tag": "ABX9TyM5NtZ13bXPiN7gvCFkx20Z",
   "provenance": []
  },
  "kernelspec": {
   "display_name": "notebooks",
   "language": "python",
   "name": "python3"
  },
  "language_info": {
   "codemirror_mode": {
    "name": "ipython",
    "version": 3
   },
   "file_extension": ".py",
   "mimetype": "text/x-python",
   "name": "python",
   "nbconvert_exporter": "python",
   "pygments_lexer": "ipython3",
   "version": "3.10.18"
  },
  "widgets": {
   "application/vnd.jupyter.widget-state+json": {
    "896aa85672bb4151b1619245abb496f6": {
     "model_module": "@jupyter-widgets/base",
     "model_module_version": "1.2.0",
     "model_name": "LayoutModel",
     "state": {
      "_model_module": "@jupyter-widgets/base",
      "_model_module_version": "1.2.0",
      "_model_name": "LayoutModel",
      "_view_count": null,
      "_view_module": "@jupyter-widgets/base",
      "_view_module_version": "1.2.0",
      "_view_name": "LayoutView",
      "align_content": null,
      "align_items": null,
      "align_self": null,
      "border": null,
      "bottom": null,
      "display": null,
      "flex": null,
      "flex_flow": null,
      "grid_area": null,
      "grid_auto_columns": null,
      "grid_auto_flow": null,
      "grid_auto_rows": null,
      "grid_column": null,
      "grid_gap": null,
      "grid_row": null,
      "grid_template_areas": null,
      "grid_template_columns": null,
      "grid_template_rows": null,
      "height": null,
      "justify_content": null,
      "justify_items": null,
      "left": null,
      "margin": null,
      "max_height": null,
      "max_width": null,
      "min_height": null,
      "min_width": null,
      "object_fit": null,
      "object_position": null,
      "order": null,
      "overflow": null,
      "overflow_x": null,
      "overflow_y": null,
      "padding": null,
      "right": null,
      "top": null,
      "visibility": null,
      "width": null
     }
    },
    "ccbaa7c7bdee445a940cc81a30bb2d8f": {
     "model_module": "@jupyter-widgets/output",
     "model_module_version": "1.0.0",
     "model_name": "OutputModel",
     "state": {
      "_dom_classes": [],
      "_model_module": "@jupyter-widgets/output",
      "_model_module_version": "1.0.0",
      "_model_name": "OutputModel",
      "_view_count": null,
      "_view_module": "@jupyter-widgets/output",
      "_view_module_version": "1.0.0",
      "_view_name": "OutputView",
      "layout": "IPY_MODEL_896aa85672bb4151b1619245abb496f6",
      "msg_id": "",
      "outputs": [
       {
        "data": {
         "application/vnd.google.colaboratory.intrinsic+json": {
          "summary": "{\n  \"name\": \"df_6_sorted\",\n  \"rows\": 2253,\n  \"fields\": [\n    {\n      \"column\": \"palabra\",\n      \"properties\": {\n        \"dtype\": \"string\",\n        \"num_unique_values\": 2253,\n        \"samples\": [\n          \"autodefini\",\n          \"amuinareis\",\n          \"huaqueara\"\n        ],\n        \"semantic_type\": \"\",\n        \"description\": \"\"\n      }\n    },\n    {\n      \"column\": \"longitud_palabra\",\n      \"properties\": {\n        \"dtype\": \"number\",\n        \"std\": 0,\n        \"min\": 9,\n        \"max\": 10,\n        \"num_unique_values\": 2,\n        \"samples\": [\n          9,\n          10\n        ],\n        \"semantic_type\": \"\",\n        \"description\": \"\"\n      }\n    },\n    {\n      \"column\": \"prefijo\",\n      \"properties\": {\n        \"dtype\": \"category\",\n        \"num_unique_values\": 26,\n        \"samples\": [\n          \"de\",\n          \"so\"\n        ],\n        \"semantic_type\": \"\",\n        \"description\": \"\"\n      }\n    },\n    {\n      \"column\": \"sufijo\",\n      \"properties\": {\n        \"dtype\": \"category\",\n        \"num_unique_values\": 3,\n        \"samples\": [\n          \"\",\n          \"bia\"\n        ],\n        \"semantic_type\": \"\",\n        \"description\": \"\"\n      }\n    },\n    {\n      \"column\": \"sufijo_len\",\n      \"properties\": {\n        \"dtype\": \"number\",\n        \"std\": 0,\n        \"min\": 0,\n        \"max\": 3,\n        \"num_unique_values\": 2,\n        \"samples\": [\n          3,\n          0\n        ],\n        \"semantic_type\": \"\",\n        \"description\": \"\"\n      }\n    },\n    {\n      \"column\": \"prefijo_len\",\n      \"properties\": {\n        \"dtype\": \"number\",\n        \"std\": 0,\n        \"min\": 0,\n        \"max\": 6,\n        \"num_unique_values\": 7,\n        \"samples\": [\n          1,\n          0\n        ],\n        \"semantic_type\": \"\",\n        \"description\": \"\"\n      }\n    },\n    {\n      \"column\": \"index\",\n      \"properties\": {\n        \"dtype\": \"number\",\n        \"std\": 650,\n        \"min\": 1,\n        \"max\": 2253,\n        \"num_unique_values\": 2253,\n        \"samples\": [\n          1786,\n          1264\n        ],\n        \"semantic_type\": \"\",\n        \"description\": \"\"\n      }\n    }\n  ]\n}",
          "type": "dataframe",
          "variable_name": "df_6_sorted"
         },
         "text/html": "\n  <div id=\"df-69b03966-5479-4eb2-8fe2-b1132e77555b\" class=\"colab-df-container\">\n    <div>\n<style scoped>\n    .dataframe tbody tr th:only-of-type {\n        vertical-align: middle;\n    }\n\n    .dataframe tbody tr th {\n        vertical-align: top;\n    }\n\n    .dataframe thead th {\n        text-align: right;\n    }\n</style>\n<table border=\"1\" class=\"dataframe\">\n  <thead>\n    <tr style=\"text-align: right;\">\n      <th></th>\n      <th>palabra</th>\n      <th>longitud_palabra</th>\n      <th>prefijo</th>\n      <th>sufijo</th>\n      <th>sufijo_len</th>\n      <th>prefijo_len</th>\n      <th>index</th>\n    </tr>\n  </thead>\n  <tbody>\n    <tr>\n      <th>1</th>\n      <td>abaleabais</td>\n      <td>10</td>\n      <td>a</td>\n      <td></td>\n      <td>0</td>\n      <td>1</td>\n      <td>1</td>\n    </tr>\n    <tr>\n      <th>2</th>\n      <td>gagueabais</td>\n      <td>10</td>\n      <td></td>\n      <td></td>\n      <td>0</td>\n      <td>0</td>\n      <td>2</td>\n    </tr>\n    <tr>\n      <th>3</th>\n      <td>foguereare</td>\n      <td>10</td>\n      <td></td>\n      <td></td>\n      <td>0</td>\n      <td>0</td>\n      <td>3</td>\n    </tr>\n    <tr>\n      <th>4</th>\n      <td>foguerease</td>\n      <td>10</td>\n      <td></td>\n      <td></td>\n      <td>0</td>\n      <td>0</td>\n      <td>4</td>\n    </tr>\n    <tr>\n      <th>5</th>\n      <td>fueteabais</td>\n      <td>10</td>\n      <td></td>\n      <td></td>\n      <td>0</td>\n      <td>0</td>\n      <td>5</td>\n    </tr>\n    <tr>\n      <th>...</th>\n      <td>...</td>\n      <td>...</td>\n      <td>...</td>\n      <td>...</td>\n      <td>...</td>\n      <td>...</td>\n      <td>...</td>\n    </tr>\n    <tr>\n      <th>2249</th>\n      <td>airearais</td>\n      <td>9</td>\n      <td>a</td>\n      <td></td>\n      <td>0</td>\n      <td>1</td>\n      <td>2249</td>\n    </tr>\n    <tr>\n      <th>2250</th>\n      <td>aireabais</td>\n      <td>9</td>\n      <td>a</td>\n      <td></td>\n      <td>0</td>\n      <td>1</td>\n      <td>2250</td>\n    </tr>\n    <tr>\n      <th>2251</th>\n      <td>aiquileño</td>\n      <td>9</td>\n      <td>a</td>\n      <td></td>\n      <td>0</td>\n      <td>1</td>\n      <td>2251</td>\n    </tr>\n    <tr>\n      <th>2252</th>\n      <td>aiquileña</td>\n      <td>9</td>\n      <td>a</td>\n      <td></td>\n      <td>0</td>\n      <td>1</td>\n      <td>2252</td>\n    </tr>\n    <tr>\n      <th>2253</th>\n      <td>acuariano</td>\n      <td>9</td>\n      <td>a</td>\n      <td></td>\n      <td>0</td>\n      <td>1</td>\n      <td>2253</td>\n    </tr>\n  </tbody>\n</table>\n<p>2253 rows × 7 columns</p>\n</div>\n    <div class=\"colab-df-buttons\">\n\n  <div class=\"colab-df-container\">\n    <button class=\"colab-df-convert\" onclick=\"convertToInteractive('df-69b03966-5479-4eb2-8fe2-b1132e77555b')\"\n            title=\"Convert this dataframe to an interactive table.\"\n            style=\"display:none;\">\n\n  <svg xmlns=\"http://www.w3.org/2000/svg\" height=\"24px\" viewBox=\"0 -960 960 960\">\n    <path d=\"M120-120v-720h720v720H120Zm60-500h600v-160H180v160Zm220 220h160v-160H400v160Zm0 220h160v-160H400v160ZM180-400h160v-160H180v160Zm440 0h160v-160H620v160ZM180-180h160v-160H180v160Zm440 0h160v-160H620v160Z\"/>\n  </svg>\n    </button>\n\n  <style>\n    .colab-df-container {\n      display:flex;\n      gap: 12px;\n    }\n\n    .colab-df-convert {\n      background-color: #E8F0FE;\n      border: none;\n      border-radius: 50%;\n      cursor: pointer;\n      display: none;\n      fill: #1967D2;\n      height: 32px;\n      padding: 0 0 0 0;\n      width: 32px;\n    }\n\n    .colab-df-convert:hover {\n      background-color: #E2EBFA;\n      box-shadow: 0px 1px 2px rgba(60, 64, 67, 0.3), 0px 1px 3px 1px rgba(60, 64, 67, 0.15);\n      fill: #174EA6;\n    }\n\n    .colab-df-buttons div {\n      margin-bottom: 4px;\n    }\n\n    [theme=dark] .colab-df-convert {\n      background-color: #3B4455;\n      fill: #D2E3FC;\n    }\n\n    [theme=dark] .colab-df-convert:hover {\n      background-color: #434B5C;\n      box-shadow: 0px 1px 3px 1px rgba(0, 0, 0, 0.15);\n      filter: drop-shadow(0px 1px 2px rgba(0, 0, 0, 0.3));\n      fill: #FFFFFF;\n    }\n  </style>\n\n    <script>\n      const buttonEl =\n        document.querySelector('#df-69b03966-5479-4eb2-8fe2-b1132e77555b button.colab-df-convert');\n      buttonEl.style.display =\n        google.colab.kernel.accessAllowed ? 'block' : 'none';\n\n      async function convertToInteractive(key) {\n        const element = document.querySelector('#df-69b03966-5479-4eb2-8fe2-b1132e77555b');\n        const dataTable =\n          await google.colab.kernel.invokeFunction('convertToInteractive',\n                                                    [key], {});\n        if (!dataTable) return;\n\n        const docLinkHtml = 'Like what you see? Visit the ' +\n          '<a target=\"_blank\" href=https://colab.research.google.com/notebooks/data_table.ipynb>data table notebook</a>'\n          + ' to learn more about interactive tables.';\n        element.innerHTML = '';\n        dataTable['output_type'] = 'display_data';\n        await google.colab.output.renderOutput(dataTable, element);\n        const docLink = document.createElement('div');\n        docLink.innerHTML = docLinkHtml;\n        element.appendChild(docLink);\n      }\n    </script>\n  </div>\n\n\n<div id=\"df-4e649432-bdec-4878-b733-44d8586cae7a\">\n  <button class=\"colab-df-quickchart\" onclick=\"quickchart('df-4e649432-bdec-4878-b733-44d8586cae7a')\"\n            title=\"Suggest charts\"\n            style=\"display:none;\">\n\n<svg xmlns=\"http://www.w3.org/2000/svg\" height=\"24px\"viewBox=\"0 0 24 24\"\n     width=\"24px\">\n    <g>\n        <path d=\"M19 3H5c-1.1 0-2 .9-2 2v14c0 1.1.9 2 2 2h14c1.1 0 2-.9 2-2V5c0-1.1-.9-2-2-2zM9 17H7v-7h2v7zm4 0h-2V7h2v10zm4 0h-2v-4h2v4z\"/>\n    </g>\n</svg>\n  </button>\n\n<style>\n  .colab-df-quickchart {\n      --bg-color: #E8F0FE;\n      --fill-color: #1967D2;\n      --hover-bg-color: #E2EBFA;\n      --hover-fill-color: #174EA6;\n      --disabled-fill-color: #AAA;\n      --disabled-bg-color: #DDD;\n  }\n\n  [theme=dark] .colab-df-quickchart {\n      --bg-color: #3B4455;\n      --fill-color: #D2E3FC;\n      --hover-bg-color: #434B5C;\n      --hover-fill-color: #FFFFFF;\n      --disabled-bg-color: #3B4455;\n      --disabled-fill-color: #666;\n  }\n\n  .colab-df-quickchart {\n    background-color: var(--bg-color);\n    border: none;\n    border-radius: 50%;\n    cursor: pointer;\n    display: none;\n    fill: var(--fill-color);\n    height: 32px;\n    padding: 0;\n    width: 32px;\n  }\n\n  .colab-df-quickchart:hover {\n    background-color: var(--hover-bg-color);\n    box-shadow: 0 1px 2px rgba(60, 64, 67, 0.3), 0 1px 3px 1px rgba(60, 64, 67, 0.15);\n    fill: var(--button-hover-fill-color);\n  }\n\n  .colab-df-quickchart-complete:disabled,\n  .colab-df-quickchart-complete:disabled:hover {\n    background-color: var(--disabled-bg-color);\n    fill: var(--disabled-fill-color);\n    box-shadow: none;\n  }\n\n  .colab-df-spinner {\n    border: 2px solid var(--fill-color);\n    border-color: transparent;\n    border-bottom-color: var(--fill-color);\n    animation:\n      spin 1s steps(1) infinite;\n  }\n\n  @keyframes spin {\n    0% {\n      border-color: transparent;\n      border-bottom-color: var(--fill-color);\n      border-left-color: var(--fill-color);\n    }\n    20% {\n      border-color: transparent;\n      border-left-color: var(--fill-color);\n      border-top-color: var(--fill-color);\n    }\n    30% {\n      border-color: transparent;\n      border-left-color: var(--fill-color);\n      border-top-color: var(--fill-color);\n      border-right-color: var(--fill-color);\n    }\n    40% {\n      border-color: transparent;\n      border-right-color: var(--fill-color);\n      border-top-color: var(--fill-color);\n    }\n    60% {\n      border-color: transparent;\n      border-right-color: var(--fill-color);\n    }\n    80% {\n      border-color: transparent;\n      border-right-color: var(--fill-color);\n      border-bottom-color: var(--fill-color);\n    }\n    90% {\n      border-color: transparent;\n      border-bottom-color: var(--fill-color);\n    }\n  }\n</style>\n\n  <script>\n    async function quickchart(key) {\n      const quickchartButtonEl =\n        document.querySelector('#' + key + ' button');\n      quickchartButtonEl.disabled = true;  // To prevent multiple clicks.\n      quickchartButtonEl.classList.add('colab-df-spinner');\n      try {\n        const charts = await google.colab.kernel.invokeFunction(\n            'suggestCharts', [key], {});\n      } catch (error) {\n        console.error('Error during call to suggestCharts:', error);\n      }\n      quickchartButtonEl.classList.remove('colab-df-spinner');\n      quickchartButtonEl.classList.add('colab-df-quickchart-complete');\n    }\n    (() => {\n      let quickchartButtonEl =\n        document.querySelector('#df-4e649432-bdec-4878-b733-44d8586cae7a button');\n      quickchartButtonEl.style.display =\n        google.colab.kernel.accessAllowed ? 'block' : 'none';\n    })();\n  </script>\n</div>\n\n  <div id=\"id_3d81e064-4c35-4f62-9d07-f48ab75ec159\">\n    <style>\n      .colab-df-generate {\n        background-color: #E8F0FE;\n        border: none;\n        border-radius: 50%;\n        cursor: pointer;\n        display: none;\n        fill: #1967D2;\n        height: 32px;\n        padding: 0 0 0 0;\n        width: 32px;\n      }\n\n      .colab-df-generate:hover {\n        background-color: #E2EBFA;\n        box-shadow: 0px 1px 2px rgba(60, 64, 67, 0.3), 0px 1px 3px 1px rgba(60, 64, 67, 0.15);\n        fill: #174EA6;\n      }\n\n      [theme=dark] .colab-df-generate {\n        background-color: #3B4455;\n        fill: #D2E3FC;\n      }\n\n      [theme=dark] .colab-df-generate:hover {\n        background-color: #434B5C;\n        box-shadow: 0px 1px 3px 1px rgba(0, 0, 0, 0.15);\n        filter: drop-shadow(0px 1px 2px rgba(0, 0, 0, 0.3));\n        fill: #FFFFFF;\n      }\n    </style>\n    <button class=\"colab-df-generate\" onclick=\"generateWithVariable('df_6_sorted')\"\n            title=\"Generate code using this dataframe.\"\n            style=\"display:none;\">\n\n  <svg xmlns=\"http://www.w3.org/2000/svg\" height=\"24px\"viewBox=\"0 0 24 24\"\n       width=\"24px\">\n    <path d=\"M7,19H8.4L18.45,9,17,7.55,7,17.6ZM5,21V16.75L18.45,3.32a2,2,0,0,1,2.83,0l1.4,1.43a1.91,1.91,0,0,1,.58,1.4,1.91,1.91,0,0,1-.58,1.4L9.25,21ZM18.45,9,17,7.55Zm-12,3A5.31,5.31,0,0,0,4.9,8.1,5.31,5.31,0,0,0,1,6.5,5.31,5.31,0,0,0,4.9,4.9,5.31,5.31,0,0,0,6.5,1,5.31,5.31,0,0,0,8.1,4.9,5.31,5.31,0,0,0,12,6.5,5.46,5.46,0,0,0,6.5,12Z\"/>\n  </svg>\n    </button>\n    <script>\n      (() => {\n      const buttonEl =\n        document.querySelector('#id_3d81e064-4c35-4f62-9d07-f48ab75ec159 button.colab-df-generate');\n      buttonEl.style.display =\n        google.colab.kernel.accessAllowed ? 'block' : 'none';\n\n      buttonEl.onclick = () => {\n        google.colab.notebook.generateWithVariable('df_6_sorted');\n      }\n      })();\n    </script>\n  </div>\n\n    </div>\n  </div>\n",
         "text/plain": "         palabra  longitud_palabra prefijo sufijo  sufijo_len  prefijo_len  \\\n1     abaleabais                10       a                  0            1   \n2     gagueabais                10                          0            0   \n3     foguereare                10                          0            0   \n4     foguerease                10                          0            0   \n5     fueteabais                10                          0            0   \n...          ...               ...     ...    ...         ...          ...   \n2249   airearais                 9       a                  0            1   \n2250   aireabais                 9       a                  0            1   \n2251   aiquileño                 9       a                  0            1   \n2252   aiquileña                 9       a                  0            1   \n2253   acuariano                 9       a                  0            1   \n\n      index  \n1         1  \n2         2  \n3         3  \n4         4  \n5         5  \n...     ...  \n2249   2249  \n2250   2250  \n2251   2251  \n2252   2252  \n2253   2253  \n\n[2253 rows x 7 columns]"
        },
        "metadata": {},
        "output_type": "display_data"
       }
      ]
     }
    }
   }
  }
 },
 "nbformat": 4,
 "nbformat_minor": 0
}
