{
 "cells": [
  {
   "cell_type": "markdown",
   "metadata": {
    "id": "iKUakpDuIbRv"
   },
   "source": [
    "# Train for the «Reacción en Cadena» national (Spanish) TV contest.\n",
    "\n",
    "**Note**: the data and some comments are in Spanish due to is a national contest from Spain.\n",
    "\n",
    "All code here was implemented by Álvaro to help Álvaro, Antonio a Rubén challenge «Reacción en Cadena»."
   ]
  },
  {
   "cell_type": "code",
   "execution_count": 15,
   "metadata": {
    "executionInfo": {
     "elapsed": 1110,
     "status": "ok",
     "timestamp": 1743680844054,
     "user": {
      "displayName": "Code Kage",
      "userId": "07074025957687558676"
     },
     "user_tz": -120
    },
    "id": "1kfPLxweHxWG"
   },
   "outputs": [],
   "source": [
    "# Libraries\n",
    "import pandas as pd\n",
    "import random\n",
    "import os"
   ]
  },
  {
   "cell_type": "code",
   "execution_count": 16,
   "metadata": {},
   "outputs": [],
   "source": [
    "folder = os.path.join(os.getcwd(), \"data\")\n",
    "file   = os.path.join(folder, \"REC.xlsx\")"
   ]
  },
  {
   "cell_type": "markdown",
   "metadata": {
    "id": "StDpvvEMSrTp"
   },
   "source": [
    "## Auxiliar functions"
   ]
  },
  {
   "cell_type": "code",
   "execution_count": 17,
   "metadata": {
    "executionInfo": {
     "elapsed": 33,
     "status": "ok",
     "timestamp": 1743680844107,
     "user": {
      "displayName": "Code Kage",
      "userId": "07074025957687558676"
     },
     "user_tz": -120
    },
    "id": "WEuGBx9ZWgMp"
   },
   "outputs": [],
   "source": [
    "def get_df_from_xlsx(file, sheet_name):\n",
    "  # Read the ..xlsx data into a Pandas DataFrame\n",
    "  try:\n",
    "    df = pd.read_excel(file, sheet_name=sheet_name)\n",
    "    return df\n",
    "  except Exception as e:\n",
    "    print(f\"Error loading data: {e}\")"
   ]
  },
  {
   "cell_type": "code",
   "execution_count": 18,
   "metadata": {
    "executionInfo": {
     "elapsed": 1,
     "status": "ok",
     "timestamp": 1743680844109,
     "user": {
      "displayName": "Code Kage",
      "userId": "07074025957687558676"
     },
     "user_tz": -120
    },
    "id": "MqVFFK8fSrm2"
   },
   "outputs": [],
   "source": [
    "def get_random_row_elements(df):\n",
    "  \"\"\"\n",
    "  Returns the elements of the first and second columns of a random row in a DataFrame.\n",
    "\n",
    "  Args:\n",
    "    df: The input DataFrame.\n",
    "\n",
    "  Returns:\n",
    "    A tuple containing the elements of the first and second columns of a random row,\n",
    "    or None if the DataFrame is empty or does not have at least two columns.\n",
    "  \"\"\"\n",
    "  # print(df.columns)\n",
    "  if df.empty or len(df.columns) < 2:\n",
    "    print(\"Error!\")\n",
    "    return None\n",
    "  elif len(df.columns) > 2:\n",
    "    print(\"Danger, my friend.\")\n",
    "\n",
    "  random_index = random.randint(0, len(df) - 1)\n",
    "  first_element = df.iloc[random_index, 0]\n",
    "  second_element = df.iloc[random_index, 1]\n",
    "  return first_element, second_element"
   ]
  },
  {
   "cell_type": "code",
   "execution_count": 19,
   "metadata": {},
   "outputs": [],
   "source": [
    "# Función que, dado un tema, devuelve donde empieza\n",
    "def get_tema_index(df, tema):\n",
    "  \"\"\"\n",
    "  Returns the index of the row where the given tema is in the first column.\n",
    "\n",
    "  Args:\n",
    "    tema: The tema to search for.\n",
    "\n",
    "  Returns:\n",
    "    The index of the row where the tema is found, or -1 if the tema is not found.\n",
    "  \"\"\"\n",
    "  try:\n",
    "    index = df[df.iloc[:, 0] == tema].index[0]\n",
    "    return index\n",
    "  except IndexError:\n",
    "    return -1"
   ]
  },
  {
   "cell_type": "markdown",
   "metadata": {
    "id": "jKhWLbqedqJw"
   },
   "source": [
    "## Load data"
   ]
  },
  {
   "cell_type": "markdown",
   "metadata": {
    "id": "WQ11MQ_3IYJY"
   },
   "source": [
    "### Palabras a practicar"
   ]
  },
  {
   "cell_type": "code",
   "execution_count": 20,
   "metadata": {
    "executionInfo": {
     "elapsed": 1776,
     "status": "ok",
     "timestamp": 1743680845889,
     "user": {
      "displayName": "Code Kage",
      "userId": "07074025957687558676"
     },
     "user_tz": -120
    },
    "id": "WHd6OjbqDpKM"
   },
   "outputs": [],
   "source": [
    "df_practicar = get_df_from_xlsx(file, \"practicar\")\n",
    "df_practicar_backup = df_practicar.copy() # backup"
   ]
  },
  {
   "cell_type": "code",
   "execution_count": 21,
   "metadata": {
    "executionInfo": {
     "elapsed": 6,
     "status": "ok",
     "timestamp": 1743680845916,
     "user": {
      "displayName": "Code Kage",
      "userId": "07074025957687558676"
     },
     "user_tz": -120
    },
    "id": "Ie6Ay7MwePC5"
   },
   "outputs": [],
   "source": [
    "df_practicar = df_practicar.iloc[:, [1, 2]].copy() # Access columns by index"
   ]
  },
  {
   "cell_type": "code",
   "execution_count": 22,
   "metadata": {
    "colab": {
     "base_uri": "https://localhost:8080/",
     "height": 175
    },
    "executionInfo": {
     "elapsed": 51,
     "status": "ok",
     "timestamp": 1743680845967,
     "user": {
      "displayName": "Code Kage",
      "userId": "07074025957687558676"
     },
     "user_tz": -120
    },
    "id": "-10CNjU8x5kT",
    "outputId": "3275100d-f444-480b-a5a5-a02aa23db27a"
   },
   "outputs": [
    {
     "data": {
      "text/html": [
       "<div>\n",
       "<style scoped>\n",
       "    .dataframe tbody tr th:only-of-type {\n",
       "        vertical-align: middle;\n",
       "    }\n",
       "\n",
       "    .dataframe tbody tr th {\n",
       "        vertical-align: top;\n",
       "    }\n",
       "\n",
       "    .dataframe thead th {\n",
       "        text-align: right;\n",
       "    }\n",
       "</style>\n",
       "<table border=\"1\" class=\"dataframe\">\n",
       "  <thead>\n",
       "    <tr style=\"text-align: right;\">\n",
       "      <th></th>\n",
       "      <th>Palabra</th>\n",
       "      <th>Definición/Formulación</th>\n",
       "    </tr>\n",
       "  </thead>\n",
       "  <tbody>\n",
       "    <tr>\n",
       "      <th>0</th>\n",
       "      <td>NaN</td>\n",
       "      <td>NaN</td>\n",
       "    </tr>\n",
       "    <tr>\n",
       "      <th>1</th>\n",
       "      <td>Madre</td>\n",
       "      <td>qué no es hija</td>\n",
       "    </tr>\n",
       "    <tr>\n",
       "      <th>2</th>\n",
       "      <td>Padre</td>\n",
       "      <td>qué no es hijo</td>\n",
       "    </tr>\n",
       "    <tr>\n",
       "      <th>3</th>\n",
       "      <td>Mamá</td>\n",
       "      <td>qué cariñosa no es hija</td>\n",
       "    </tr>\n",
       "  </tbody>\n",
       "</table>\n",
       "</div>"
      ],
      "text/plain": [
       "  Palabra   Definición/Formulación\n",
       "0     NaN                      NaN\n",
       "1   Madre          qué no es hija \n",
       "2   Padre           qué no es hijo\n",
       "3    Mamá  qué cariñosa no es hija"
      ]
     },
     "execution_count": 22,
     "metadata": {},
     "output_type": "execute_result"
    }
   ],
   "source": [
    "df_practicar.head(4)"
   ]
  },
  {
   "cell_type": "markdown",
   "metadata": {
    "id": "H_1-qsjsIjcn"
   },
   "source": [
    "### Palabras falladas"
   ]
  },
  {
   "cell_type": "code",
   "execution_count": 23,
   "metadata": {
    "executionInfo": {
     "elapsed": 1049,
     "status": "ok",
     "timestamp": 1743680847017,
     "user": {
      "displayName": "Code Kage",
      "userId": "07074025957687558676"
     },
     "user_tz": -120
    },
    "id": "r2pX7FWeEEo-"
   },
   "outputs": [],
   "source": [
    "df_falladas = get_df_from_xlsx(file, \"falladas\")\n",
    "df_falladas_backup = df_falladas.copy() # backup"
   ]
  },
  {
   "cell_type": "code",
   "execution_count": 24,
   "metadata": {
    "executionInfo": {
     "elapsed": 72,
     "status": "ok",
     "timestamp": 1743680847090,
     "user": {
      "displayName": "Code Kage",
      "userId": "07074025957687558676"
     },
     "user_tz": -120
    },
    "id": "prcYVJ4Kd6Yq"
   },
   "outputs": [],
   "source": [
    "df_falladas = df_falladas.iloc[:, [0, 1]].copy() # Access columns by index"
   ]
  },
  {
   "cell_type": "code",
   "execution_count": 25,
   "metadata": {
    "colab": {
     "base_uri": "https://localhost:8080/",
     "height": 175
    },
    "executionInfo": {
     "elapsed": 66,
     "status": "ok",
     "timestamp": 1743680847098,
     "user": {
      "displayName": "Code Kage",
      "userId": "07074025957687558676"
     },
     "user_tz": -120
    },
    "id": "BURVr29EtOTY",
    "outputId": "665aa337-196d-4f54-e0b6-7e20c6e40dda"
   },
   "outputs": [
    {
     "data": {
      "text/html": [
       "<div>\n",
       "<style scoped>\n",
       "    .dataframe tbody tr th:only-of-type {\n",
       "        vertical-align: middle;\n",
       "    }\n",
       "\n",
       "    .dataframe tbody tr th {\n",
       "        vertical-align: top;\n",
       "    }\n",
       "\n",
       "    .dataframe thead th {\n",
       "        text-align: right;\n",
       "    }\n",
       "</style>\n",
       "<table border=\"1\" class=\"dataframe\">\n",
       "  <thead>\n",
       "    <tr style=\"text-align: right;\">\n",
       "      <th></th>\n",
       "      <th>Palabra</th>\n",
       "      <th>Definición</th>\n",
       "    </tr>\n",
       "  </thead>\n",
       "  <tbody>\n",
       "    <tr>\n",
       "      <th>0</th>\n",
       "      <td>Pitón</td>\n",
       "      <td>Que serpiente programa</td>\n",
       "    </tr>\n",
       "    <tr>\n",
       "      <th>1</th>\n",
       "      <td>Rodajas</td>\n",
       "      <td>qué cortes de merluza</td>\n",
       "    </tr>\n",
       "    <tr>\n",
       "      <th>2</th>\n",
       "      <td>rebanadas</td>\n",
       "      <td>que cortes/trozos pan</td>\n",
       "    </tr>\n",
       "    <tr>\n",
       "      <th>3</th>\n",
       "      <td>gajos</td>\n",
       "      <td>qué trozos mandarina/naranja</td>\n",
       "    </tr>\n",
       "  </tbody>\n",
       "</table>\n",
       "</div>"
      ],
      "text/plain": [
       "      Palabra                    Definición\n",
       "0       Pitón        Que serpiente programa\n",
       "1     Rodajas         qué cortes de merluza\n",
       "2  rebanadas          que cortes/trozos pan\n",
       "3       gajos  qué trozos mandarina/naranja"
      ]
     },
     "execution_count": 25,
     "metadata": {},
     "output_type": "execute_result"
    }
   ],
   "source": [
    "df_falladas.head(4)"
   ]
  },
  {
   "cell_type": "markdown",
   "metadata": {
    "id": "b1eqs9haIlkC"
   },
   "source": [
    "### Palabras que salen en el programa"
   ]
  },
  {
   "cell_type": "code",
   "execution_count": 26,
   "metadata": {
    "executionInfo": {
     "elapsed": 1160,
     "status": "ok",
     "timestamp": 1743680848258,
     "user": {
      "displayName": "Code Kage",
      "userId": "07074025957687558676"
     },
     "user_tz": -120
    },
    "id": "INtuD22aEEmU"
   },
   "outputs": [],
   "source": [
    "df_programa = get_df_from_xlsx(file, \"programa\")\n",
    "df_programa_backup = df_programa.copy() # backup"
   ]
  },
  {
   "cell_type": "code",
   "execution_count": 27,
   "metadata": {
    "executionInfo": {
     "elapsed": 4,
     "status": "ok",
     "timestamp": 1743680848263,
     "user": {
      "displayName": "Code Kage",
      "userId": "07074025957687558676"
     },
     "user_tz": -120
    },
    "id": "cKiomKjuEEd6"
   },
   "outputs": [],
   "source": [
    "df_programa = df_programa.iloc[:, [1, 2]].copy() # Access columns by index"
   ]
  },
  {
   "cell_type": "code",
   "execution_count": 28,
   "metadata": {
    "colab": {
     "base_uri": "https://localhost:8080/",
     "height": 175
    },
    "executionInfo": {
     "elapsed": 109,
     "status": "ok",
     "timestamp": 1743680848377,
     "user": {
      "displayName": "Code Kage",
      "userId": "07074025957687558676"
     },
     "user_tz": -120
    },
    "id": "Cg_QBo4QtRHf",
    "outputId": "c330b13a-7a9f-474c-806f-aea64991ecc3"
   },
   "outputs": [
    {
     "data": {
      "text/html": [
       "<div>\n",
       "<style scoped>\n",
       "    .dataframe tbody tr th:only-of-type {\n",
       "        vertical-align: middle;\n",
       "    }\n",
       "\n",
       "    .dataframe tbody tr th {\n",
       "        vertical-align: top;\n",
       "    }\n",
       "\n",
       "    .dataframe thead th {\n",
       "        text-align: right;\n",
       "    }\n",
       "</style>\n",
       "<table border=\"1\" class=\"dataframe\">\n",
       "  <thead>\n",
       "    <tr style=\"text-align: right;\">\n",
       "      <th></th>\n",
       "      <th>Palabra</th>\n",
       "      <th>Formulación</th>\n",
       "    </tr>\n",
       "  </thead>\n",
       "  <tbody>\n",
       "    <tr>\n",
       "      <th>0</th>\n",
       "      <td>NaN</td>\n",
       "      <td>NaN</td>\n",
       "    </tr>\n",
       "    <tr>\n",
       "      <th>1</th>\n",
       "      <td>NaN</td>\n",
       "      <td>NaN</td>\n",
       "    </tr>\n",
       "    <tr>\n",
       "      <th>2</th>\n",
       "      <td>Circo</td>\n",
       "      <td>Donde actuan payasos</td>\n",
       "    </tr>\n",
       "    <tr>\n",
       "      <th>3</th>\n",
       "      <td>Derecha</td>\n",
       "      <td>izquierda</td>\n",
       "    </tr>\n",
       "  </tbody>\n",
       "</table>\n",
       "</div>"
      ],
      "text/plain": [
       "   Palabra           Formulación\n",
       "0      NaN                   NaN\n",
       "1      NaN                   NaN\n",
       "2    Circo  Donde actuan payasos\n",
       "3  Derecha             izquierda"
      ]
     },
     "execution_count": 28,
     "metadata": {},
     "output_type": "execute_result"
    }
   ],
   "source": [
    "df_programa.head(4)"
   ]
  },
  {
   "cell_type": "markdown",
   "metadata": {
    "id": "1ttkFDcmesEZ"
   },
   "source": [
    "## Practising"
   ]
  },
  {
   "cell_type": "markdown",
   "metadata": {
    "id": "FuhegtKRUgcA"
   },
   "source": [
    "### Palabras a practicar"
   ]
  },
  {
   "cell_type": "markdown",
   "metadata": {
    "id": "iD3tvaZ9euqt"
   },
   "source": [
    "#### Rubén (adivinador)"
   ]
  },
  {
   "cell_type": "code",
   "execution_count": 29,
   "metadata": {
    "colab": {
     "base_uri": "https://localhost:8080/"
    },
    "executionInfo": {
     "elapsed": 52,
     "status": "ok",
     "timestamp": 1743680848432,
     "user": {
      "displayName": "Code Kage",
      "userId": "07074025957687558676"
     },
     "user_tz": -120
    },
    "id": "yLqw2s-Lete4",
    "outputId": "d96d84d0-742a-4be4-e2fd-26dcd9c7b1b8"
   },
   "outputs": [
    {
     "name": "stdout",
     "output_type": "stream",
     "text": [
      "qué estilo artístico muerte Van Gogh [años 1880-1910]\n"
     ]
    }
   ],
   "source": [
    "# 1. Obtenemos una formulación aleatoria\n",
    "palabra_practicar, formula_practicar = get_random_row_elements(df_practicar)\n",
    "# 2. La mostramos al usuario\n",
    "print(f\"{formula_practicar}\")"
   ]
  },
  {
   "cell_type": "code",
   "execution_count": 30,
   "metadata": {
    "colab": {
     "base_uri": "https://localhost:8080/"
    },
    "executionInfo": {
     "elapsed": 56,
     "status": "ok",
     "timestamp": 1743680848509,
     "user": {
      "displayName": "Code Kage",
      "userId": "07074025957687558676"
     },
     "user_tz": -120
    },
    "id": "n-SHxTnzg2Jj",
    "outputId": "2051a787-6e49-4552-a49f-86353fc02b26"
   },
   "outputs": [
    {
     "name": "stdout",
     "output_type": "stream",
     "text": [
      "Postimpresionismo\n"
     ]
    }
   ],
   "source": [
    "# 3. Comprobar la solución\n",
    "print(f\"{palabra_practicar}\")"
   ]
  },
  {
   "cell_type": "markdown",
   "metadata": {
    "id": "Go8qHrcLexk6"
   },
   "source": [
    "#### Álvaro y Antonio (formuladores)"
   ]
  },
  {
   "cell_type": "code",
   "execution_count": 31,
   "metadata": {
    "colab": {
     "base_uri": "https://localhost:8080/"
    },
    "executionInfo": {
     "elapsed": 42,
     "status": "ok",
     "timestamp": 1743681197253,
     "user": {
      "displayName": "Code Kage",
      "userId": "07074025957687558676"
     },
     "user_tz": -120
    },
    "id": "6_SMKJy9hJsQ",
    "outputId": "e87262b7-d99d-451d-bc0d-8e8eb4314ab3"
   },
   "outputs": [
    {
     "name": "stdout",
     "output_type": "stream",
     "text": [
      "Marisco\n"
     ]
    }
   ],
   "source": [
    "# 1. Obtenemos una formulación aleatoria\n",
    "palabra_practicar, formula_practicar = get_random_row_elements(df_practicar)\n",
    "# 2. La mostramos al usuario\n",
    "print(f\"{palabra_practicar}\")"
   ]
  },
  {
   "cell_type": "code",
   "execution_count": 32,
   "metadata": {
    "colab": {
     "base_uri": "https://localhost:8080/"
    },
    "executionInfo": {
     "elapsed": 4,
     "status": "ok",
     "timestamp": 1743681198429,
     "user": {
      "displayName": "Code Kage",
      "userId": "07074025957687558676"
     },
     "user_tz": -120
    },
    "id": "AzPe2H2QhJn9",
    "outputId": "943e5c94-f761-463c-ea96-edf55c914056"
   },
   "outputs": [
    {
     "name": "stdout",
     "output_type": "stream",
     "text": [
      "qué vende Antonio Recio\n"
     ]
    }
   ],
   "source": [
    "# 3. Comprobar la solución\n",
    "print(f\"{formula_practicar}\")"
   ]
  },
  {
   "cell_type": "markdown",
   "metadata": {
    "id": "mHXA0QrFU1ov"
   },
   "source": [
    "### Palabras falladas"
   ]
  },
  {
   "cell_type": "markdown",
   "metadata": {
    "id": "N0uFnwFnU_2T"
   },
   "source": [
    "#### Rubén (adivinador)"
   ]
  },
  {
   "cell_type": "code",
   "execution_count": 33,
   "metadata": {
    "colab": {
     "base_uri": "https://localhost:8080/"
    },
    "executionInfo": {
     "elapsed": 2,
     "status": "ok",
     "timestamp": 1743680848620,
     "user": {
      "displayName": "Code Kage",
      "userId": "07074025957687558676"
     },
     "user_tz": -120
    },
    "id": "eqg00wwmU03N",
    "outputId": "a360c0aa-eb6f-4471-ba77-1d1c2db1b81f"
   },
   "outputs": [
    {
     "name": "stdout",
     "output_type": "stream",
     "text": [
      "que no es quitarse\n"
     ]
    }
   ],
   "source": [
    "# 1. Obtenemos una formulación aleatoria\n",
    "palabra_falladas, formula_falladas = get_random_row_elements(df_falladas)\n",
    "# 2. La mostramos al usuario\n",
    "print(f\"{formula_falladas}\")"
   ]
  },
  {
   "cell_type": "code",
   "execution_count": 34,
   "metadata": {
    "colab": {
     "base_uri": "https://localhost:8080/"
    },
    "executionInfo": {
     "elapsed": 11,
     "status": "ok",
     "timestamp": 1743680848632,
     "user": {
      "displayName": "Code Kage",
      "userId": "07074025957687558676"
     },
     "user_tz": -120
    },
    "id": "mo9umZK2U0z4",
    "outputId": "778c43d5-27c7-423b-a850-06d9736fc13e"
   },
   "outputs": [
    {
     "name": "stdout",
     "output_type": "stream",
     "text": [
      "ponerse\n"
     ]
    }
   ],
   "source": [
    "# 3. Comprobar la solución\n",
    "print(f\"{palabra_falladas}\")"
   ]
  },
  {
   "cell_type": "markdown",
   "metadata": {
    "id": "7m8eQm4UU7YQ"
   },
   "source": [
    "#### Álvaro y Antonio (formuladores)"
   ]
  },
  {
   "cell_type": "code",
   "execution_count": 35,
   "metadata": {
    "colab": {
     "base_uri": "https://localhost:8080/"
    },
    "executionInfo": {
     "elapsed": 22,
     "status": "ok",
     "timestamp": 1743680848654,
     "user": {
      "displayName": "Code Kage",
      "userId": "07074025957687558676"
     },
     "user_tz": -120
    },
    "id": "cXd_PksJU0v_",
    "outputId": "50148cf2-61a8-419d-b822-4f761cec3e74"
   },
   "outputs": [
    {
     "name": "stdout",
     "output_type": "stream",
     "text": [
      "cueva\n"
     ]
    }
   ],
   "source": [
    "# 1. Obtenemos una formulación aleatoria\n",
    "palabra_falladas, formula_falladas = get_random_row_elements(df_falladas)\n",
    "# 2. La mostramos al usuario\n",
    "print(f\"{palabra_falladas}\")"
   ]
  },
  {
   "cell_type": "code",
   "execution_count": 36,
   "metadata": {
    "colab": {
     "base_uri": "https://localhost:8080/"
    },
    "executionInfo": {
     "elapsed": 28,
     "status": "ok",
     "timestamp": 1743680848682,
     "user": {
      "displayName": "Code Kage",
      "userId": "07074025957687558676"
     },
     "user_tz": -120
    },
    "id": "1tcDWk4uU0s4",
    "outputId": "329181f6-e6bf-486f-899d-82915b497e18"
   },
   "outputs": [
    {
     "name": "stdout",
     "output_type": "stream",
     "text": [
      "que es altamira\n"
     ]
    }
   ],
   "source": [
    "# 3. Comprobar la solución\n",
    "print(f\"{formula_falladas}\")"
   ]
  },
  {
   "cell_type": "markdown",
   "metadata": {
    "id": "OEks6uFdU3bP"
   },
   "source": [
    "### Palabras que salen en el programa"
   ]
  },
  {
   "cell_type": "markdown",
   "metadata": {
    "id": "kC5W2d8LU_TL"
   },
   "source": [
    "#### Rubén (adivinador)"
   ]
  },
  {
   "cell_type": "code",
   "execution_count": 50,
   "metadata": {
    "colab": {
     "base_uri": "https://localhost:8080/"
    },
    "executionInfo": {
     "elapsed": 1,
     "status": "ok",
     "timestamp": 1743680848684,
     "user": {
      "displayName": "Code Kage",
      "userId": "07074025957687558676"
     },
     "user_tz": -120
    },
    "id": "3M_nxw_uU0lC",
    "outputId": "5d5a7a53-d4e0-40c6-b81a-51904110eeef"
   },
   "outputs": [
    {
     "name": "stdout",
     "output_type": "stream",
     "text": [
      "Que genéricos recoges champiñones campo\n"
     ]
    }
   ],
   "source": [
    "# 1. Obtenemos una formulación aleatoria\n",
    "palabra_programa, formula_programa = get_random_row_elements(df_programa)\n",
    "# 2. La mostramos al usuario\n",
    "print(f\"{formula_programa}\")"
   ]
  },
  {
   "cell_type": "code",
   "execution_count": 51,
   "metadata": {
    "colab": {
     "base_uri": "https://localhost:8080/"
    },
    "executionInfo": {
     "elapsed": 19,
     "status": "ok",
     "timestamp": 1743680848704,
     "user": {
      "displayName": "Code Kage",
      "userId": "07074025957687558676"
     },
     "user_tz": -120
    },
    "id": "itAtlZbtU0iF",
    "outputId": "57752da5-c2a8-4d49-dd48-c4ad7c6b59dc"
   },
   "outputs": [
    {
     "name": "stdout",
     "output_type": "stream",
     "text": [
      "Setas\n"
     ]
    }
   ],
   "source": [
    "# 3. Comprobar la solución\n",
    "print(f\"{palabra_programa}\")"
   ]
  },
  {
   "cell_type": "markdown",
   "metadata": {
    "id": "6Q1OYKGkU5tS"
   },
   "source": [
    "#### Álvaro y Antonio (formuladores)"
   ]
  },
  {
   "cell_type": "code",
   "execution_count": 39,
   "metadata": {
    "colab": {
     "base_uri": "https://localhost:8080/"
    },
    "executionInfo": {
     "elapsed": 4,
     "status": "ok",
     "timestamp": 1743680848806,
     "user": {
      "displayName": "Code Kage",
      "userId": "07074025957687558676"
     },
     "user_tz": -120
    },
    "id": "mLk8jNzOU0eX",
    "outputId": "7ab50f56-9d9d-47f0-c9e3-93ae757e168f"
   },
   "outputs": [
    {
     "name": "stdout",
     "output_type": "stream",
     "text": [
      "carpintero\n"
     ]
    }
   ],
   "source": [
    "# 1. Obtenemos una formulación aleatoria\n",
    "palabra_programa, formula_programa = get_random_row_elements(df_programa)\n",
    "# 2. La mostramos al usuario\n",
    "print(f\"{palabra_programa}\")"
   ]
  },
  {
   "cell_type": "code",
   "execution_count": 40,
   "metadata": {
    "colab": {
     "base_uri": "https://localhost:8080/"
    },
    "executionInfo": {
     "elapsed": 2,
     "status": "ok",
     "timestamp": 1743680848809,
     "user": {
      "displayName": "Code Kage",
      "userId": "07074025957687558676"
     },
     "user_tz": -120
    },
    "id": "ChsPdj92U0br",
    "outputId": "5a5a3da5-3d3f-44db-c128-0f34d8ab4caf"
   },
   "outputs": [
    {
     "name": "stdout",
     "output_type": "stream",
     "text": [
      "sinonimo de ebanista\n"
     ]
    }
   ],
   "source": [
    "# 3. Comprobar la solución\n",
    "print(f\"{formula_programa}\")"
   ]
  },
  {
   "cell_type": "markdown",
   "metadata": {
    "id": "5AQNHnA_1qH2"
   },
   "source": [
    "### Temático"
   ]
  },
  {
   "cell_type": "code",
   "execution_count": 41,
   "metadata": {
    "colab": {
     "base_uri": "https://localhost:8080/"
    },
    "executionInfo": {
     "elapsed": 49,
     "status": "ok",
     "timestamp": 1743680848869,
     "user": {
      "displayName": "Code Kage",
      "userId": "07074025957687558676"
     },
     "user_tz": -120
    },
    "id": "82Z5TFJy1x3Y",
    "outputId": "be4cd0db-91ee-4d59-c48d-3b0a5ba6437e"
   },
   "outputs": [],
   "source": [
    "# Get temas from df\n",
    "df_temas = df_practicar_backup.iloc[:, [0, 1, 2]].copy()\n",
    "# Extraemos los temas\n",
    "# Get unique values from the first column\n",
    "temas = list(df_temas.iloc[:, 0].unique())"
   ]
  },
  {
   "cell_type": "code",
   "execution_count": 42,
   "metadata": {
    "colab": {
     "base_uri": "https://localhost:8080/"
    },
    "executionInfo": {
     "elapsed": 96,
     "status": "ok",
     "timestamp": 1743680848966,
     "user": {
      "displayName": "Code Kage",
      "userId": "07074025957687558676"
     },
     "user_tz": -120
    },
    "id": "X-k63VsJ171Y",
    "outputId": "fbf69621-5cca-4b59-ae70-23c4876c77ff"
   },
   "outputs": [
    {
     "name": "stdout",
     "output_type": "stream",
     "text": [
      "Tema 'Familia': Empieza en la fila 0\n",
      "Tema 'Cocina': Empieza en la fila 36\n",
      "Tema 'Naturaleza': Empieza en la fila 62\n",
      "Tema 'Animales': Empieza en la fila 93\n",
      "Tema 'vegetales/plantas': Empieza en la fila 204\n",
      "Tema 'Zodiaco': Empieza en la fila 218\n",
      "Tema 'Arte': Empieza en la fila 232\n",
      "Tema 'Política': Empieza en la fila 252\n",
      "Tema 'Escuela': Empieza en la fila 280\n",
      "Tema 'Tecnología': Empieza en la fila 299\n",
      "Tema 'Deportes': Empieza en la fila 311\n",
      "Tema 'Hogar': Empieza en la fila 334\n",
      "Tema 'Salud': Empieza en la fila 356\n",
      "Tema 'Transporte/Vehículos': Empieza en la fila 397\n",
      "Tema 'Moda': Empieza en la fila 426\n",
      "Tema 'Vacaciones': Empieza en la fila 453\n",
      "Tema 'Alimentos/Comida': Empieza en la fila 463\n",
      "Tema 'Ciencias': Empieza en la fila 505\n",
      "Tema 'Entretenimiento': Empieza en la fila 523\n",
      "Tema 'Títulos': Empieza en la fila 539\n",
      "Tema 'Música/Instrumentos': Empieza en la fila 545\n",
      "Tema 'Colores': Empieza en la fila 578\n",
      "Tema 'Ambigüedades': Empieza en la fila 599\n",
      "Tema 'Varios': Empieza en la fila 626\n"
     ]
    }
   ],
   "source": [
    "# Function to find the starting index of each tema\n",
    "def get_tema_index(df, tema):\n",
    "  try:\n",
    "    index = df[df.iloc[:, 0] == tema].index[0]\n",
    "    return index\n",
    "  except IndexError:\n",
    "    return -1\n",
    "\n",
    "# Iterate through the temas and print the starting index of each\n",
    "for tema in temas:\n",
    "    if pd.isna(tema):  # Skip NaN values\n",
    "        continue\n",
    "    index = get_tema_index(df_temas, tema)\n",
    "    if index != -1:\n",
    "        print(f\"Tema '{tema}': Empieza en la fila {index}\")\n",
    "    else:\n",
    "        print(f\"Tema '{tema}' no encontrado en el DataFrame.\")"
   ]
  },
  {
   "cell_type": "code",
   "execution_count": 43,
   "metadata": {
    "executionInfo": {
     "elapsed": 51,
     "status": "ok",
     "timestamp": 1743680849018,
     "user": {
      "displayName": "Code Kage",
      "userId": "07074025957687558676"
     },
     "user_tz": -120
    },
    "id": "P5tgJ1Wg2Tcm"
   },
   "outputs": [],
   "source": [
    "# Para familia\n",
    "df_tema_seleccionado = df_temas.iloc[0:35].copy()"
   ]
  },
  {
   "cell_type": "code",
   "execution_count": 44,
   "metadata": {
    "colab": {
     "base_uri": "https://localhost:8080/",
     "height": 175
    },
    "executionInfo": {
     "elapsed": 2,
     "status": "ok",
     "timestamp": 1743680849021,
     "user": {
      "displayName": "Code Kage",
      "userId": "07074025957687558676"
     },
     "user_tz": -120
    },
    "id": "tuLqhphI3OHF",
    "outputId": "e88f5420-8a35-4a1e-e5da-0ceb5870b8a1"
   },
   "outputs": [
    {
     "data": {
      "text/html": [
       "<div>\n",
       "<style scoped>\n",
       "    .dataframe tbody tr th:only-of-type {\n",
       "        vertical-align: middle;\n",
       "    }\n",
       "\n",
       "    .dataframe tbody tr th {\n",
       "        vertical-align: top;\n",
       "    }\n",
       "\n",
       "    .dataframe thead th {\n",
       "        text-align: right;\n",
       "    }\n",
       "</style>\n",
       "<table border=\"1\" class=\"dataframe\">\n",
       "  <thead>\n",
       "    <tr style=\"text-align: right;\">\n",
       "      <th></th>\n",
       "      <th>Palabra</th>\n",
       "      <th>Definición/Formulación</th>\n",
       "    </tr>\n",
       "  </thead>\n",
       "  <tbody>\n",
       "    <tr>\n",
       "      <th>0</th>\n",
       "      <td>NaN</td>\n",
       "      <td>NaN</td>\n",
       "    </tr>\n",
       "    <tr>\n",
       "      <th>1</th>\n",
       "      <td>Madre</td>\n",
       "      <td>qué no es hija</td>\n",
       "    </tr>\n",
       "    <tr>\n",
       "      <th>2</th>\n",
       "      <td>Padre</td>\n",
       "      <td>qué no es hijo</td>\n",
       "    </tr>\n",
       "    <tr>\n",
       "      <th>3</th>\n",
       "      <td>Mamá</td>\n",
       "      <td>qué cariñosa no es hija</td>\n",
       "    </tr>\n",
       "  </tbody>\n",
       "</table>\n",
       "</div>"
      ],
      "text/plain": [
       "  Palabra   Definición/Formulación\n",
       "0     NaN                      NaN\n",
       "1   Madre          qué no es hija \n",
       "2   Padre           qué no es hijo\n",
       "3    Mamá  qué cariñosa no es hija"
      ]
     },
     "execution_count": 44,
     "metadata": {},
     "output_type": "execute_result"
    }
   ],
   "source": [
    "# Display the DataFrame without the first column\n",
    "df_tema_seleccionado.iloc[:, 1:].head(4)"
   ]
  },
  {
   "cell_type": "code",
   "execution_count": 45,
   "metadata": {
    "colab": {
     "base_uri": "https://localhost:8080/"
    },
    "executionInfo": {
     "elapsed": 41,
     "status": "ok",
     "timestamp": 1743680849069,
     "user": {
      "displayName": "Code Kage",
      "userId": "07074025957687558676"
     },
     "user_tz": -120
    },
    "id": "Ar79U5yW2j_o",
    "outputId": "260fe029-81dc-4fec-f645-3d5b5b985d9f"
   },
   "outputs": [
    {
     "name": "stdout",
     "output_type": "stream",
     "text": [
      "Nieta\n"
     ]
    }
   ],
   "source": [
    "# 1. Obtenemos una formulación aleatoria\n",
    "palabra_tema, formula_tema = get_random_row_elements(df_tema_seleccionado.iloc[:, 1:])\n",
    "# 2. La mostramos al usuario\n",
    "# print(f\"La palabra a adivinar era: {palabra_programa}\")\n",
    "print(f\"{palabra_tema}\")"
   ]
  },
  {
   "cell_type": "code",
   "execution_count": 46,
   "metadata": {
    "colab": {
     "base_uri": "https://localhost:8080/"
    },
    "executionInfo": {
     "elapsed": 58,
     "status": "ok",
     "timestamp": 1743680849128,
     "user": {
      "displayName": "Code Kage",
      "userId": "07074025957687558676"
     },
     "user_tz": -120
    },
    "id": "27MMbGqv2kg_",
    "outputId": "f8002577-51e4-4b9d-e0fb-00fd4bd76858"
   },
   "outputs": [
    {
     "name": "stdout",
     "output_type": "stream",
     "text": [
      "qué no es abuela\n"
     ]
    }
   ],
   "source": [
    "# 3. Comprobar la solución\n",
    "# print(f\"La formulación de la palabra es: {formula_programa}\")\n",
    "print(f\"{formula_tema}\")"
   ]
  }
 ],
 "metadata": {
  "colab": {
   "authorship_tag": "ABX9TyOleCc1VOqARdUOvmMLzXib",
   "provenance": []
  },
  "kernelspec": {
   "display_name": "notebooks",
   "language": "python",
   "name": "python3"
  },
  "language_info": {
   "codemirror_mode": {
    "name": "ipython",
    "version": 3
   },
   "file_extension": ".py",
   "mimetype": "text/x-python",
   "name": "python",
   "nbconvert_exporter": "python",
   "pygments_lexer": "ipython3",
   "version": "3.10.18"
  }
 },
 "nbformat": 4,
 "nbformat_minor": 0
}
